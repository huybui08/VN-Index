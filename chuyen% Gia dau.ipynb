{
 "cells": [
  {
   "cell_type": "code",
   "execution_count": 1,
   "metadata": {},
   "outputs": [],
   "source": [
    "import pandas as pd \n",
    "import matplotlib.pyplot as plt \n"
   ]
  },
  {
   "cell_type": "code",
   "execution_count": 5,
   "metadata": {},
   "outputs": [
    {
     "name": "stdout",
     "output_type": "stream",
     "text": [
      "Hàng đã chọn từ Giá dầu theo tháng.xlsx đã được chuyển đổi thành Giadau.csv\n"
     ]
    }
   ],
   "source": [
    "# Load the Excel file\n",
    "excel_file = 'Giá dầu theo tháng.xlsx'\n",
    "\n",
    "# Chỉ đọc một số hàng cụ thể, ví dụ từ hàng 5 đến hàng 15\n",
    "df = pd.read_excel(excel_file, skiprows=5, nrows=20)\n",
    "\n",
    "# Save to CSV\n",
    "csv_file = 'Giadau.csv'\n",
    "df.to_csv(csv_file, index=False,encoding='utf-8')\n",
    "\n",
    "print(f\"Hàng đã chọn từ {excel_file} đã được chuyển đổi thành {csv_file}\")"
   ]
  },
  {
   "cell_type": "code",
   "execution_count": 6,
   "metadata": {},
   "outputs": [
    {
     "name": "stdout",
     "output_type": "stream",
     "text": [
      "Các hàng từ 2 đến 17 và từ 19 đến 21 đã được xóa và lưu trong Giá dầu.csv\n"
     ]
    }
   ],
   "source": [
    "import pandas as pd\n",
    "\n",
    "csv_file = 'Giadau.csv'\n",
    "df = pd.read_csv(csv_file)\n",
    "\n",
    "df_dropped = df.drop(df.index[1:11].tolist() + df.index[12:40].tolist())\n",
    "\n",
    "output_file = 'Giá dầu.csv'\n",
    "df_dropped.to_csv(output_file, index=False, encoding='utf-8')\n",
    "\n",
    "print(f\"Các hàng từ 2 đến 17 và từ 19 đến 21 đã được xóa và lưu trong {output_file}\")"
   ]
  },
  {
   "cell_type": "code",
   "execution_count": 2,
   "metadata": {},
   "outputs": [
    {
     "name": "stdout",
     "output_type": "stream",
     "text": [
      "                 Chỉ tiêu Đơn vị tính          Date  Value\n",
      "0    Chỉ số giá tiêu dùng           %  Tháng 1/2013   1.25\n",
      "1    Chỉ số giá tiêu dùng           %  Tháng 2/2013   1.32\n",
      "2    Chỉ số giá tiêu dùng           %  Tháng 3/2013  -0.19\n",
      "3    Chỉ số giá tiêu dùng           %  Tháng 4/2013   0.02\n",
      "4    Chỉ số giá tiêu dùng           %  Tháng 5/2013  -0.06\n",
      "..                    ...         ...           ...    ...\n",
      "135  Chỉ số giá tiêu dùng           %  Tháng 4/2024   0.07\n",
      "136  Chỉ số giá tiêu dùng           %  Tháng 5/2024   0.05\n",
      "137  Chỉ số giá tiêu dùng           %  Tháng 6/2024   0.17\n",
      "138  Chỉ số giá tiêu dùng           %  Tháng 7/2024   0.48\n",
      "139  Chỉ số giá tiêu dùng           %  Tháng 8/2024   0.00\n",
      "\n",
      "[140 rows x 4 columns]\n"
     ]
    }
   ],
   "source": [
    "import pandas as pd\n",
    "\n",
    "file_path = '.csv' \n",
    "df = pd.read_csv(file_path)\n",
    "\n",
    "df_long = df.melt(id_vars=[\"Chỉ tiêu\", \"Đơn vị tính\"], var_name=\"Date\", value_name=\"Value\")\n",
    "\n",
    "df_long.to_csv('CPI_2.csv', index=False)\n",
    "\n",
    "print(df_long)\n"
   ]
  },
  {
   "cell_type": "markdown",
   "metadata": {},
   "source": []
  }
 ],
 "metadata": {
  "kernelspec": {
   "display_name": "base",
   "language": "python",
   "name": "python3"
  },
  "language_info": {
   "codemirror_mode": {
    "name": "ipython",
    "version": 3
   },
   "file_extension": ".py",
   "mimetype": "text/x-python",
   "name": "python",
   "nbconvert_exporter": "python",
   "pygments_lexer": "ipython3",
   "version": "3.12.4"
  }
 },
 "nbformat": 4,
 "nbformat_minor": 2
}
