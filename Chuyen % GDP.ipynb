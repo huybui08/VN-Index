{
 "cells": [
  {
   "cell_type": "code",
   "execution_count": 3,
   "metadata": {},
   "outputs": [],
   "source": [
    "import pandas as pd \n",
    "import matplotlib.pyplot as plt "
   ]
  },
  {
   "cell_type": "code",
   "execution_count": 4,
   "metadata": {},
   "outputs": [
    {
     "name": "stdout",
     "output_type": "stream",
     "text": [
      "Hàng đã chọn từ GDP theo quý.xlsx đã được chuyển đổi thành gdp.csv\n"
     ]
    }
   ],
   "source": [
    "# Load the Excel file\n",
    "excel_file = 'GDP theo quý.xlsx'\n",
    "\n",
    "# Chỉ đọc một số hàng cụ thể, ví dụ từ hàng 5 đến hàng 15\n",
    "df = pd.read_excel(excel_file, skiprows=5, nrows=20)\n",
    "\n",
    "# Save to CSV\n",
    "csv_file = 'gdp.csv'\n",
    "df.to_csv(csv_file, index=False,encoding='utf-8')\n",
    "\n",
    "print(f\"Hàng đã chọn từ {excel_file} đã được chuyển đổi thành {csv_file}\")"
   ]
  },
  {
   "cell_type": "code",
   "execution_count": null,
   "metadata": {},
   "outputs": [],
   "source": [
    "import pandas as pd\n",
    "\n",
    "csv_file = 'gdp.csv'\n",
    "df = pd.read_csv(csv_file)\n",
    "\n",
    "df_dropped = df.drop(df.index[0:6].tolist() + df.index[7:40].tolist())\n",
    "\n",
    "output_file = 'GDP.csv'\n",
    "df_dropped.to_csv(output_file, index=False, encoding='utf-8')\n",
    "\n",
    "print(f\"các hàng cần lấy lưu trong {output_file}\")"
   ]
  },
  {
   "cell_type": "code",
   "execution_count": null,
   "metadata": {},
   "outputs": [],
   "source": [
    "import pandas as pd\n",
    "\n",
    "file_path = 'GDP.csv' \n",
    "df = pd.read_csv(file_path)\n",
    "\n",
    "df_long = df.melt(id_vars=[\"Chỉ tiêu\", \"Đơn vị tính\"], var_name=\"Date\", value_name=\"Value\")\n",
    "\n",
    "df_long.to_csv('GDP.csv', index=False)\n",
    "\n",
    "print(df_long)"
   ]
  },
  {
   "cell_type": "code",
   "execution_count": null,
   "metadata": {},
   "outputs": [],
   "source": [
    "import pandas as pd\n",
    "\n",
    "# Bước 1: Đọc dữ liệu từ file CSV (nếu chưa làm)\n",
    "file_path = 'GDP.csv'  # Thay thế đường dẫn của bạn\n",
    "df = pd.read_csv(file_path)\n",
    "\n",
    "# Bước 2: Xóa cột 'Đơn vị tính'\n",
    "df = df.drop(columns=['Đơn vị tính'])\n",
    "\n",
    "# Bước 3: Lấy giá trị đầu tiên của cột 'Value' làm 100%\n",
    "initial_value = df['Value'].iloc[0]\n",
    "\n",
    "# Bước 4: Chuyển đổi cột 'Value' thành phần trăm so với hàng đầu tiên\n",
    "df['Value'] = ((df['Value'] / initial_value) * 100).round(2)\n",
    "\n",
    "# Bước 5: Hiển thị kết quả\n",
    "print(df)\n",
    "\n",
    "# Bước 6: Lưu lại nếu cần\n",
    "df.to_csv('GDP(%).csv', index=False)"
   ]
  }
 ],
 "metadata": {
  "kernelspec": {
   "display_name": "base",
   "language": "python",
   "name": "python3"
  },
  "language_info": {
   "codemirror_mode": {
    "name": "ipython",
    "version": 3
   },
   "file_extension": ".py",
   "mimetype": "text/x-python",
   "name": "python",
   "nbconvert_exporter": "python",
   "pygments_lexer": "ipython3",
   "version": "3.12.4"
  }
 },
 "nbformat": 4,
 "nbformat_minor": 2
}
